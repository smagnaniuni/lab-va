{
 "cells": [
  {
   "cell_type": "markdown",
   "metadata": {
    "deletable": false,
    "editable": false
   },
   "source": [
    "<img style=\"float:right\" src=\"images/logo_va.png\" /> \n",
    "\n",
    "# Visione Artificiale\n",
    "## Esercitazione: Python e NumPy"
   ]
  },
  {
   "cell_type": "markdown",
   "metadata": {
    "deletable": false,
    "editable": false
   },
   "source": [
    "### Sommario\n",
    "* Un primo esercizio per per prendere confidenza con Python: generare i numeri perfetti;\n",
    "* Un secondo esercizio in Python: calcolare alcune statistiche sulle parole in un testo;\n",
    "* Un esercizio sullo sli per per prendere confidenza con Python: generare i numeri perfetti;\n",
    "* Un secondo esercizio in Python: calcolare alcune statistiche sulle parole in un testo;\n",
    "* Un esercizio sullo slicing di liste in Python;\n",
    "* Alcune operazioni su matricing di liste in Python;\n",
    "* Alcune operazioni su matrici in Python e in NumPy;\n",
    "* Il setaccio di Eratostene con NumPy."
   ]
  },
  {
   "cell_type": "markdown",
   "metadata": {
    "deletable": false,
    "editable": false
   },
   "source": [
    "Iniziamo con l'importazione dei moduli che ci serviranno: `NumPy` e `va`."
   ]
  },
  {
   "cell_type": "code",
   "execution_count": 1,
   "metadata": {
    "deletable": false,
    "editable": false
   },
   "outputs": [],
   "source": [
    "import numpy as np\n",
    "import va"
   ]
  },
  {
   "cell_type": "markdown",
   "metadata": {
    "deletable": false,
    "editable": false
   },
   "source": [
    "<img style=\"float:left\" src=\"images/ar.png\" /> **Esercizio 1** - Nella prossima cella completare la funzione `perfetti(k)` che deve restituire una lista ordinata dei numeri *perfetti* fra 1 e k. Un numero $N$ si dice perfetto se $\\sigma(N) = 2\\cdot N$, dove la funzione $\\sigma(N)$ restituisce la somma dei divisori positivi di $N$. Ad esempio 6 è perfetto in quanto la somma dei suoi divisori (1, 2, 3, 6) è pari a 12."
   ]
  },
  {
   "cell_type": "code",
   "execution_count": 2,
   "metadata": {},
   "outputs": [],
   "source": [
    "def perfetti(k):\n",
    "\n",
    "    # --- Svolgimento Esercizio 1: Inizio --- #    \n",
    "    perf = []\n",
    "    for i in range(1, k+1):\n",
    "        # divs = []\n",
    "        somma = 0\n",
    "        for div in range(1, i+1):\n",
    "            if i % div == 0:\n",
    "                # divs.append(div)\n",
    "                somma += div\n",
    "        if somma == 2 * i:\n",
    "            perf.append(i)\n",
    "    \n",
    "    # Restituire la lista dei numeri perfetti <= k\n",
    "    return perf\n",
    "    \n",
    "    # --- Svolgimento Esercizio 1: Fine --- #\n",
    "\n",
    "def perfetti_sol(k):\n",
    "    return [n for n in range(1, k+1) if 2*n==sum(i for i in range(1,n) if n%i ==0)]"
   ]
  },
  {
   "cell_type": "markdown",
   "metadata": {
    "deletable": false,
    "editable": false
   },
   "source": [
    "Eseguire la cella seguente per controllare se la funzione è corretta."
   ]
  },
  {
   "cell_type": "code",
   "execution_count": 3,
   "metadata": {
    "deletable": false,
    "editable": false
   },
   "outputs": [
    {
     "data": {
      "text/html": [
       "<table><tr><td style='text-align:center;'>Verifica</td></tr><tr><td style='text-align:center;'><img src='images/test_ok.png'></td></tr></table>"
      ],
      "text/plain": [
       "<IPython.core.display.HTML object>"
      ]
     },
     "metadata": {},
     "output_type": "display_data"
    }
   ],
   "source": [
    "va.test_basi_1(perfetti)"
   ]
  },
  {
   "cell_type": "markdown",
   "metadata": {
    "deletable": false,
    "editable": false
   },
   "source": [
    "<img style=\"float:left\" src=\"images/ar.png\" /> **Esercizio 2** - Nella prossima cella completare la funzione `statistiche_parole()` che riceve in input una stringa e deve restituire una tupla contenente i seguenti valori:\n",
    "\n",
    "* Numero di parole,\n",
    "* Lunghezza della parola più corta,\n",
    "* Lunghezza della parola più lunga,\n",
    "* Lunghezza media delle parole.\n",
    "\n",
    "Come delimitatori, considerare semplicemente il carattere spazio, virgola e punto.  \n",
    "Ad esempio, `statistiche_parole(\"Flat is better than nested.\")` deve restituire `(5, 2, 6, 4.4)`.  \n",
    "Nel caso non ci sia alcuna parola nel testo, la funzione deve restituire `(0, None, None, None)`.  \n",
    "Suggerimenti: possono essere utili alcuni metodi della classe `str` come `split` e `replace`. "
   ]
  },
  {
   "cell_type": "code",
   "execution_count": 4,
   "metadata": {},
   "outputs": [],
   "source": [
    "def statistiche_parole(testo):\n",
    "    print(\"Testo:\", testo)\n",
    "\n",
    "    # --- Svolgimento Esercizio 2: Inizio --- #    \n",
    "    parole = testo.replace(\",\", \" \").replace(\".\", \" \").strip().split(\" \")\n",
    "    len0 = [len(parola) == 0 for parola in parole]\n",
    "    orig_parole = parole\n",
    "    new_parole = []\n",
    "    for parola in parole:\n",
    "        if len(parola) > 0:\n",
    "            new_parole.append(parola)\n",
    "    parole = new_parole\n",
    "\n",
    "    num_parole = len(parole)\n",
    "    if num_parole == 0:\n",
    "        return (0, None, None, None)\n",
    "\n",
    "    lung_parole = [len(parola) for parola in parole]\n",
    "    lung_min = min(lung_parole)\n",
    "    lung_max = max(lung_parole)\n",
    "    lung_avg = 0\n",
    "    for lung in lung_parole:\n",
    "        lung_avg += lung\n",
    "    lung_avg /= num_parole\n",
    "\n",
    "    # Restituire la tupla richiesta\n",
    "    res = (num_parole, lung_min, lung_max, lung_avg)\n",
    "    print(parole)\n",
    "    # print(num_parole)\n",
    "    # print(lung_parole)\n",
    "    print(res)\n",
    "    return res\n",
    "    \n",
    "    # --- Svolgimento Esercizio 2: Fine --- #\n",
    "\n",
    "def statistiche_testo_sol(testo):\n",
    "    w = testo.replace('.', ' ').replace(',', ' ').split()\n",
    "    lw = [len(x) for x in w]\n",
    "    return [len(w), min(lw), max(lw), sum(lw)/len(lw)] if w else (0, None, None, None)"
   ]
  },
  {
   "cell_type": "markdown",
   "metadata": {
    "deletable": false,
    "editable": false
   },
   "source": [
    "Eseguire la cella seguente per verificare la funzione in alcuni casi di prova."
   ]
  },
  {
   "cell_type": "code",
   "execution_count": 5,
   "metadata": {
    "deletable": false,
    "editable": false,
    "scrolled": true
   },
   "outputs": [
    {
     "name": "stdout",
     "output_type": "stream",
     "text": [
      "Testo: Beautiful is better than ugly.\n",
      "['Beautiful', 'is', 'better', 'than', 'ugly']\n",
      "(5, 2, 9, 5.0)\n",
      "Testo: Explicit is better than implicit.\n",
      "['Explicit', 'is', 'better', 'than', 'implicit']\n",
      "(5, 2, 8, 5.6)\n",
      "Testo: Simple is better than complex.\n",
      "['Simple', 'is', 'better', 'than', 'complex']\n",
      "(5, 2, 7, 5.0)\n",
      "Testo: Complex is better than complicated.\n",
      "['Complex', 'is', 'better', 'than', 'complicated']\n",
      "(5, 2, 11, 6.0)\n",
      "Testo: Flat is better than nested.\n",
      "['Flat', 'is', 'better', 'than', 'nested']\n",
      "(5, 2, 6, 4.4)\n",
      "Testo: If the implementation is easy to explain, it may be a good idea.\n",
      "['If', 'the', 'implementation', 'is', 'easy', 'to', 'explain', 'it', 'may', 'be', 'a', 'good', 'idea']\n",
      "(13, 1, 14, 3.8461538461538463)\n",
      "Testo: \n",
      "Testo:  , .\n"
     ]
    },
    {
     "data": {
      "text/html": [
       "<table><tr><td style='text-align:center;'>&quot;Beautiful is better than ugly.&quot;</td><td style='text-align:center;'>&quot;Explicit is better than implicit.&quot;</td><td style='text-align:center;'>&quot;Simple is better than complex.&quot;</td><td style='text-align:center;'>&quot;Complex is better than complicated.&quot;</td><td style='text-align:center;'>&quot;Flat is better than nested.&quot;</td><td style='text-align:center;'>&quot;If the implementation is easy to explain, it may be a good idea.&quot;</td><td style='text-align:center;'>&quot;&quot;</td><td style='text-align:center;'>&quot; , .&quot;</td></tr><tr><td style='text-align:center;'><img src='images/test_ok.png'></td><td style='text-align:center;'><img src='images/test_ok.png'></td><td style='text-align:center;'><img src='images/test_ok.png'></td><td style='text-align:center;'><img src='images/test_ok.png'></td><td style='text-align:center;'><img src='images/test_ok.png'></td><td style='text-align:center;'><img src='images/test_ok.png'></td><td style='text-align:center;'><img src='images/test_ok.png'></td><td style='text-align:center;'><img src='images/test_ok.png'></td></tr></table>"
      ],
      "text/plain": [
       "<IPython.core.display.HTML object>"
      ]
     },
     "metadata": {},
     "output_type": "display_data"
    }
   ],
   "source": [
    "va.test_basi_2(statistiche_parole)"
   ]
  },
  {
   "cell_type": "markdown",
   "metadata": {
    "deletable": false,
    "editable": false
   },
   "source": [
    "Si consideri ora la seguente lista di interi."
   ]
  },
  {
   "cell_type": "code",
   "execution_count": 6,
   "metadata": {
    "deletable": false,
    "editable": false
   },
   "outputs": [
    {
     "data": {
      "text/plain": [
       "[0, 1, 2, 3, 4, 5, 6, 7, 8, 9, 10, 11, 12, 13, 14, 15, 16, 17, 18, 19, 20]"
      ]
     },
     "execution_count": 6,
     "metadata": {},
     "output_type": "execute_result"
    }
   ],
   "source": [
    "numeri = list(range(21))\n",
    "numeri"
   ]
  },
  {
   "cell_type": "markdown",
   "metadata": {
    "deletable": false,
    "editable": false
   },
   "source": [
    "<img style=\"float:left\" src=\"images/ar.png\" /> **Esercizio 3** - La cella seguente contiene una tupla (`risultati`) con una serie di liste di interi: si tratta di sottoinsiemi della lista `numeri`. Nella cella successiva inizializzare una tupla identica a  utilizzando *solamente* operazioni di slicing sulla lista `numeri`.  \n",
    "Ad esempio: se fosse `risultati = ([0,1], [0,2,4,6])`, una possibile soluzione sarebbe `slicing = (numeri[:3], numeri[:8:2])`. Nota bene: è richiesto di utilizzare *unicamente* indicizzazione con slicing sulla lista `numeri`: ogni elemento della tupla deve avere la forma `numeri[]` con almeno un ':' all'interno delle parentesi quadre.  \n",
    "Eseguire la cella successiva per controllare la correttezza di quando fatto."
   ]
  },
  {
   "cell_type": "code",
   "execution_count": 7,
   "metadata": {
    "deletable": false,
    "editable": false
   },
   "outputs": [],
   "source": [
    "risultati = ([0,1,2], [20, 19], [11, 14, 17, 20], [], [1, 19], [19, 1], [11])"
   ]
  },
  {
   "cell_type": "code",
   "execution_count": 8,
   "metadata": {},
   "outputs": [
    {
     "name": "stdout",
     "output_type": "stream",
     "text": [
      "([0, 1, 2], [20, 19], [11, 14, 17, 20], [], [1, 19], [19, 1], [11])\n"
     ]
    }
   ],
   "source": [
    "# --- Svolgimento Esercizio 3: Inizio --- #\n",
    "\n",
    "slicing = (numeri[:3],\n",
    "           numeri[:-3:-1],\n",
    "           numeri[11::3],\n",
    "           numeri[-1:-1],\n",
    "           numeri[1:20:18],\n",
    "           numeri[19::-18],\n",
    "           numeri[11:12]\n",
    "          ) # Costruire la tupla corretta\n",
    "print(slicing)\n",
    "# --- Svolgimento Esercizio 3: Fine --- #"
   ]
  },
  {
   "cell_type": "code",
   "execution_count": 9,
   "metadata": {
    "deletable": false,
    "editable": false
   },
   "outputs": [
    {
     "data": {
      "text/html": [
       "<table><tr><td style='text-align:center;'>[0, 1, 2]</td><td style='text-align:center;'>[20, 19]</td><td style='text-align:center;'>[11, 14, 17, 20]</td><td style='text-align:center;'>[]</td><td style='text-align:center;'>[1, 19]</td><td style='text-align:center;'>[19, 1]</td><td style='text-align:center;'>[11]</td></tr><tr><td style='text-align:center;'><img src='images/test_ok.png'></td><td style='text-align:center;'><img src='images/test_ok.png'></td><td style='text-align:center;'><img src='images/test_ok.png'></td><td style='text-align:center;'><img src='images/test_ok.png'></td><td style='text-align:center;'><img src='images/test_ok.png'></td><td style='text-align:center;'><img src='images/test_ok.png'></td><td style='text-align:center;'><img src='images/test_ok.png'></td></tr></table>"
      ],
      "text/plain": [
       "<IPython.core.display.HTML object>"
      ]
     },
     "metadata": {},
     "output_type": "display_data"
    }
   ],
   "source": [
    "va.test_basi_3(risultati, slicing)"
   ]
  },
  {
   "cell_type": "markdown",
   "metadata": {
    "deletable": false,
    "editable": false
   },
   "source": [
    "Dopo aver svolto alcuni esercizi in Python, nella parte restante di questa esercitazione faremo un po' di pratica con NumPy. Per meglio apprezzare i vantaggi di NumPy, inizieremo con l'analizzare una serie di operazioni su matrici e vettori implementate in puro Python (senza alcuna libreria aggiuntiva), per poi implementarle in NumPy e confrontarne la velocità."
   ]
  },
  {
   "cell_type": "markdown",
   "metadata": {
    "deletable": false,
    "editable": false
   },
   "source": [
    "Nella prossima cella è implementata una funzione Python che svolge le seguenti operazioni:\n",
    "\n",
    "* Creazione di una matrice $A$ con 100 righe e 50 colonne, in cui ogni elemento ha il seguente valore: $A_{i,j}=i\\cdot j$, con $(i,j)$ indici di riga e colonna 1-based;\n",
    "* Creazione di una matrice $B$ con 50 righe e 200 colonne, in cui ogni elemento ha il seguente valore: $B_{i,j}=i+j$, con $(i,j)$ indici di riga e colonna 1-based;\n",
    "* Calcolare il vettore $cA$ contenente la somma di ciascuna colonna di A;\n",
    "* Calcolare il vettore $rB$ contenente la somma di ciascuna riga di B;\n",
    "* Calcolare la matrice $C=A \\cdot B$;\n",
    "* Creare una matrice $D$ a partire da $A$, ponendo pari a 0 tutti i valori divisibili per 7;\n",
    "* Creare una matrice $E$ a partire da $B$, ponendo pari a -1 tutti i valori il cui indice di riga (1-based) è divisibile per 2 e il cui indice di colonna (1-based) è divisibile per 3.\n",
    "* Restituisce una tupla contenente tutte le matrici e i vettori creati.\n",
    "\n",
    "Analizzare e comprendere il codice (eventualmente creando altre celle per fare opportune prove) prima di proseguire."
   ]
  },
  {
   "cell_type": "code",
   "execution_count": 10,
   "metadata": {
    "deletable": false,
    "editable": false
   },
   "outputs": [],
   "source": [
    "def operazioni_py():\n",
    "    A = [ [i * j for j in range(1, 51)] for i in range(1, 101) ]\n",
    "    B = [ [i + j for j in range(1, 201)] for i in range(1, 51) ]\n",
    "    cA = [ sum( A[i][j] for i in range(len(A)) ) for j in range(len(A[0]))]\n",
    "    rB = [ sum(r) for r in B ]\n",
    "    C = [[sum([A[i][k]*B[k][j] for k in range(len(A[0]))]) for j in range(len(B[0]))] for i in range(len(A))]\n",
    "    D = [ [0 if a % 7 == 0 else a for a in r] for r in A ]\n",
    "    E = [ [-1 if ((i+1) % 2 == 0) and ((j+1) % 3 == 0) else B[i][j] for j in range(len(B[0]))] for i in range(len(B)) ]\n",
    "    return (A, B, C, D, E, cA, rB)"
   ]
  },
  {
   "cell_type": "code",
   "execution_count": 11,
   "metadata": {},
   "outputs": [
    {
     "name": "stdout",
     "output_type": "stream",
     "text": [
      "A: (100, 50)\n",
      "B: (50, 200)\n",
      "cA: (50,)\n",
      "rB: (50,)\n",
      "C: (100, 200)\n",
      "D: (100, 50)\n",
      "E: (50, 200)\n"
     ]
    }
   ],
   "source": [
    "A, B, C, D, E, cA, rB = operazioni_py()\n",
    "#print(A)\n",
    "print(\"A:\", np.shape(A))\n",
    "print(\"B:\", np.shape(B))\n",
    "print(\"cA:\", np.shape(cA))\n",
    "print(\"rB:\", np.shape(rB))\n",
    "print(\"C:\", np.shape(C))\n",
    "print(\"D:\", np.shape(D))\n",
    "print(\"E:\", np.shape(E))\n",
    "#print(cA)"
   ]
  },
  {
   "cell_type": "markdown",
   "metadata": {
    "deletable": false,
    "editable": false
   },
   "source": [
    "<img style=\"float:left\" src=\"images/ar.png\" /> **Esercizio 4** - Nella cella seguente completate la funzione `operazioni_np()` eseguendo le stesse operazioni di `operazioni_py()` mediante NumPy. In questo caso la tupla restituita dalla funzione dovrà contenere oggetti `ndarray` e non liste Python. Le due celle seguenti confrontano i risultati e misurano i tempi di esecuzione."
   ]
  },
  {
   "cell_type": "code",
   "execution_count": 12,
   "metadata": {},
   "outputs": [],
   "source": [
    "def operazioni_np():\n",
    "    # --- Svolgimento Esercizio 4: Inizio --- #\n",
    "\n",
    "    A, B, cA, rB, C, D, E = [np.zeros(1)] * 7\n",
    "    \n",
    "    #A = [ [i * j for j in range(1, 51)] for i in range(1, 101) ]\n",
    "    A = np.fromfunction(lambda i,j: (i+1)*(j+1), (100, 50), dtype=np.integer)\n",
    "    #print(\"A:\", np.shape(A))\n",
    "\n",
    "    #B = [ [i + j for j in range(1, 201)] for i in range(1, 51) ]\n",
    "    B = np.fromfunction(lambda i,j: (i+1)+(j+1), (50, 200), dtype=np.integer)\n",
    "    #print(\"B:\", B.shape)\n",
    "\n",
    "    #cA = [ sum( A[i][j] for i in range(len(A)) ) for j in range(len(A[0]))]\n",
    "    #cA = sum(A)\n",
    "    cA = np.sum(A, 0)\n",
    "    #print(\"cA:\", cA.shape)\n",
    "    #print(cA)\n",
    "    #print(type(cA))\n",
    "\n",
    "    #rB = [ sum(r) for r in B ]\n",
    "    #rB = sum(B.T)\n",
    "    rB = np.sum(B, 1)\n",
    "    #print(rB.shape)\n",
    "\n",
    "    #C = [[sum([A[i][k]*B[k][j] for k in range(len(A[0]))]) for j in range(len(B[0]))] for i in range(len(A))]\n",
    "    C = A @ B\n",
    "\n",
    "    #D = [ [0 if a % 7 == 0 else a for a in r] for r in A ]\n",
    "    D = A.copy()\n",
    "    div = A % 7 == 0\n",
    "    D[div] = 0\n",
    "    # one line solution\n",
    "    D = np.where(A % 7 == 0, 0, A)\n",
    "\n",
    "    #E = [ [-1 if ((i+1) % 2 == 0) and ((j+1) % 3 == 0) else B[i][j] for j in range(len(B[0]))] for i in range(len(B)) ]\n",
    "    E: np.ndarray = B.copy()\n",
    "    #print(E.shape)\n",
    "    #idx_row = np.arange(E.shape[0])\n",
    "    #idx_col = np.arange(E.shape[1])\n",
    "    #pred_row = (idx_row+1) % 2 == 0\n",
    "    #pred_col = (idx_col+1) % 3 == 0\n",
    "    #print(idx_row)\n",
    "    #print(idx_col)\n",
    "    #print(pred_row.shape)\n",
    "    #print(pred_col.shape)\n",
    "    #print(pred_row)\n",
    "    #print(pred_col)\n",
    "    #E[pred_row, pred_col] = -1\n",
    "    E[1::2, 2::3] = -1\n",
    "\n",
    "    # --- Svolgimento Esercizio 4: Fine --- #\n",
    "    \n",
    "    return (A, B, C, D, E, cA, rB)"
   ]
  },
  {
   "cell_type": "code",
   "execution_count": 13,
   "metadata": {
    "deletable": false,
    "editable": false
   },
   "outputs": [
    {
     "data": {
      "text/html": [
       "<table><tr><td style='text-align:center;'>A</td><td style='text-align:center;'>B</td><td style='text-align:center;'>C</td><td style='text-align:center;'>D</td><td style='text-align:center;'>E</td><td style='text-align:center;'>cA</td><td style='text-align:center;'>rB</td></tr><tr><td style='text-align:center;'><img src='images/test_ok.png'></td><td style='text-align:center;'><img src='images/test_ok.png'></td><td style='text-align:center;'><img src='images/test_ok.png'></td><td style='text-align:center;'><img src='images/test_ok.png'></td><td style='text-align:center;'><img src='images/test_ok.png'></td><td style='text-align:center;'><img src='images/test_ok.png'></td><td style='text-align:center;'><img src='images/test_ok.png'></td></tr></table>"
      ],
      "text/plain": [
       "<IPython.core.display.HTML object>"
      ]
     },
     "metadata": {},
     "output_type": "display_data"
    }
   ],
   "source": [
    "va.test_basi_4(operazioni_py, operazioni_np)"
   ]
  },
  {
   "cell_type": "code",
   "execution_count": 14,
   "metadata": {
    "deletable": false,
    "editable": false
   },
   "outputs": [
    {
     "name": "stdout",
     "output_type": "stream",
     "text": [
      "Misura del tempo di esecuzione dell'implementazione Python:\n",
      "145 ms ± 10.2 ms per loop (mean ± std. dev. of 7 runs, 1 loop each)\n",
      "Misura del tempo di esecuzione dell'implementazione NumPy:\n",
      "2.12 ms ± 348 µs per loop (mean ± std. dev. of 7 runs, 100 loops each)\n"
     ]
    }
   ],
   "source": [
    "print(\"Misura del tempo di esecuzione dell'implementazione Python:\")\n",
    "%timeit operazioni_py()\n",
    "\n",
    "print(\"Misura del tempo di esecuzione dell'implementazione NumPy:\")\n",
    "%timeit operazioni_np()"
   ]
  },
  {
   "cell_type": "markdown",
   "metadata": {
    "deletable": false,
    "editable": false
   },
   "source": [
    "Consideriamo ora il *Setaccio di Eratostene*, un antico algoritmo per calcolare la tabella dei numeri primi fino a un certo numero $N$. Il procedimento è piuttosto semplice: si scrivono tutti i numeri naturali fino a $N$ in un elenco (il *setaccio*). Poi si cancellano tutti i multipli del primo numero del setaccio (iniziando da 2), escludendo il numero stesso. Si ripete poi l'operazione con il successivo numero non cancellato, fino a superare $\\sqrt{N}$. Si può dimostrare che, per ogni numero $i$, la ricerca dei multipli da cancellare può iniziare da $i^2$, in quanto i multipli precedenti sono già stati cancellati.  \n",
    "L'animazione nella figura seguente esemplifica il procedimento per $N=120$: la ricerca si può interrompere al numero 11, in quanto $\\left \\lfloor{\\sqrt{N}}\\right \\rfloor = 10$.\n",
    "\n",
    "![Setaccio di Eratostene](pynp/Eratostene.gif)"
   ]
  },
  {
   "cell_type": "markdown",
   "metadata": {
    "deletable": false,
    "editable": false
   },
   "source": [
    "<img style=\"float:left\" src=\"images/ar.png\" /> **Esercizio 5** - Nella cella seguente completate la funzione `eratostene(n)` che deve implementare l'algoritmo appena descritto e restituire un array NumPy contenente tutti i numeri primi inferiori o uguali al parametro `n`. Si chiede di implementare il *setaccio* come un array NumPy di `n+1` booleani: al termine dell'algoritmo, il valore dell'elemento di indice `i` di tale array deve essere `True` se `i` è primo, `False` altrimenti. Gli elementi di indice 0 e 1 vanno impostati *manualmente* a `False`, per gli altri si deve utilizzare l'algoritmo. La funzione deve infine utilizzare tale array booleano per restituire un array NumPy di interi contenente i numeri primi individuati.  \n",
    "Suggerimenti: per la radice quadrata si può utilizzare l'operatore \\*\\* (oppure importare il modulo math e utilizzare math.sqrt()), per l'intero inferiore si può utilizzare int() oppure math.floor()).  \n",
    "Eseguire la cella seguente per controllare la funzione in alcuni casi di prova."
   ]
  },
  {
   "cell_type": "code",
   "execution_count": 15,
   "metadata": {},
   "outputs": [],
   "source": [
    "def eratostene(n):\n",
    "    \n",
    "    # --- Svolgimento Esercizio 5: Inizio --- #\n",
    "    setaccio = np.arange(n+1)\n",
    "    setaccio[0:2] = False\n",
    "    #print(setaccio)\n",
    "    for i in range(2, int(np.sqrt(n)) + 1):\n",
    "        setaccio[i*i::i] = False\n",
    "\n",
    "    #return setaccio != False\n",
    "    return np.arange(n+1)[setaccio != False]\n",
    "\n",
    "    #return np.array([1])\n",
    "    \n",
    "    # --- Svolgimento Esercizio 5: Fine --- \n",
    "\n",
    "eratostene(10)\n",
    "\n",
    "def eratostene_sol(n):\n",
    "    setaccio = np.full(n+1, True)\n",
    "    setaccio[:2] = False\n",
    "    for i in range(2, int(n**0.5)+1):\n",
    "        if setaccio[i]:\n",
    "            setaccio[i*i::i] = False\n",
    "    return np.arange(n+1)[setaccio]"
   ]
  },
  {
   "cell_type": "code",
   "execution_count": 16,
   "metadata": {
    "deletable": false,
    "editable": false
   },
   "outputs": [
    {
     "data": {
      "text/html": [
       "<table><tr><td style='text-align:center;'>0</td><td style='text-align:center;'>100</td><td style='text-align:center;'>200</td><td style='text-align:center;'>300</td><td style='text-align:center;'>400</td><td style='text-align:center;'>500</td><td style='text-align:center;'>600</td><td style='text-align:center;'>700</td><td style='text-align:center;'>800</td><td style='text-align:center;'>900</td><td style='text-align:center;'>1000</td><td style='text-align:center;'>1100</td><td style='text-align:center;'>1200</td></tr><tr><td style='text-align:center;'><img src='images/test_ok.png'></td><td style='text-align:center;'><img src='images/test_ok.png'></td><td style='text-align:center;'><img src='images/test_ok.png'></td><td style='text-align:center;'><img src='images/test_ok.png'></td><td style='text-align:center;'><img src='images/test_ok.png'></td><td style='text-align:center;'><img src='images/test_ok.png'></td><td style='text-align:center;'><img src='images/test_ok.png'></td><td style='text-align:center;'><img src='images/test_ok.png'></td><td style='text-align:center;'><img src='images/test_ok.png'></td><td style='text-align:center;'><img src='images/test_ok.png'></td><td style='text-align:center;'><img src='images/test_ok.png'></td><td style='text-align:center;'><img src='images/test_ok.png'></td><td style='text-align:center;'><img src='images/test_ok.png'></td></tr></table>"
      ],
      "text/plain": [
       "<IPython.core.display.HTML object>"
      ]
     },
     "metadata": {},
     "output_type": "display_data"
    }
   ],
   "source": [
    "va.test_basi_5(eratostene)"
   ]
  },
  {
   "cell_type": "markdown",
   "metadata": {
    "deletable": false,
    "editable": false
   },
   "source": [
    "<img style=\"float:left\" src=\"images/ar.png\" /> **Esercizio 6** - Nella prossima cella completate la funzione `es6(n)`, che deve svolgere le seguenti operazioni attraverso opportune istruzioni Python e NumPy:\n",
    "\n",
    "* Creare un array NumPy $p$ contenente i numeri primi minori o uguali a $2^n$ (a tale scopo utilizzare la funzione `eratostene()`;\n",
    "* Create un array NumPy $d$ contenente le prime $n+1$ potenze del 2 {$2^0$, $2^1$, ..., $2^n$};\n",
    "* Costruire una matrice $A$ tale che $A_{i,j} = min(p_i, d_j)$\n",
    "* Restituire la somma degli elementi di $A$.\n",
    "\n",
    "Suggerimenti: in NumPy è disponibile una *ufunc* che calcola il minimo elemento-per-elemento fra due matrici: come tutte le ufunc permette anche di utilizzare il broadcasting.  \n",
    "Eseguire la cella seguente per controllare la funzione in alcuni casi di prova."
   ]
  },
  {
   "cell_type": "code",
   "execution_count": 17,
   "metadata": {},
   "outputs": [],
   "source": [
    "def es6(n):\n",
    "    \n",
    "    # --- Svolgimento Esercizio 6: Inizio --- #    \n",
    "    \n",
    "    return -1\n",
    "\n",
    "    # --- Svolgimento Esercizio 6: Fine --- #\n",
    "\n",
    "def es6(n):\n",
    "    p = eratostene(2**n)\n",
    "    d = 2**np.arange(n+1)\n",
    "    A = np.minimum(p[...,np.newaxis], d)\n",
    "    return A.sum()"
   ]
  },
  {
   "cell_type": "code",
   "execution_count": 18,
   "metadata": {
    "deletable": false,
    "editable": false
   },
   "outputs": [
    {
     "data": {
      "text/html": [
       "<table><tr><td style='text-align:center;'>n=0</td><td style='text-align:center;'>n=1</td><td style='text-align:center;'>n=2</td><td style='text-align:center;'>n=3</td><td style='text-align:center;'>n=4</td><td style='text-align:center;'>n=5</td><td style='text-align:center;'>n=6</td><td style='text-align:center;'>n=7</td><td style='text-align:center;'>n=8</td><td style='text-align:center;'>n=9</td></tr><tr><td style='text-align:center;'><img src='images/test_ok.png'></td><td style='text-align:center;'><img src='images/test_ok.png'></td><td style='text-align:center;'><img src='images/test_ok.png'></td><td style='text-align:center;'><img src='images/test_ok.png'></td><td style='text-align:center;'><img src='images/test_ok.png'></td><td style='text-align:center;'><img src='images/test_ok.png'></td><td style='text-align:center;'><img src='images/test_ok.png'></td><td style='text-align:center;'><img src='images/test_ok.png'></td><td style='text-align:center;'><img src='images/test_ok.png'></td><td style='text-align:center;'><img src='images/test_ok.png'></td></tr></table>"
      ],
      "text/plain": [
       "<IPython.core.display.HTML object>"
      ]
     },
     "metadata": {},
     "output_type": "display_data"
    }
   ],
   "source": [
    "va.test_basi_6(es6)"
   ]
  },
  {
   "cell_type": "markdown",
   "metadata": {
    "deletable": false,
    "editable": false
   },
   "source": [
    "Concludiamo questa esercitazione eseguendo l'ultima funzione che abbiamo creato con il parametro $n=3$; è sufficiente eseguire l'ultima cella. Questa potrebbe essere la risposta che qualcuno stava aspettando, o forse no: l'esercitazione è comunque conclusa."
   ]
  },
  {
   "cell_type": "code",
   "execution_count": 19,
   "metadata": {
    "deletable": false,
    "editable": false
   },
   "outputs": [
    {
     "data": {
      "text/plain": [
       "42"
      ]
     },
     "execution_count": 19,
     "metadata": {},
     "output_type": "execute_result"
    }
   ],
   "source": [
    "es6(3)"
   ]
  }
 ],
 "metadata": {
  "kernelspec": {
   "display_name": "Python 3 (ipykernel)",
   "language": "python",
   "name": "python3"
  },
  "language_info": {
   "codemirror_mode": {
    "name": "ipython",
    "version": 3
   },
   "file_extension": ".py",
   "mimetype": "text/x-python",
   "name": "python",
   "nbconvert_exporter": "python",
   "pygments_lexer": "ipython3",
   "version": "3.11.8"
  }
 },
 "nbformat": 4,
 "nbformat_minor": 4
}
